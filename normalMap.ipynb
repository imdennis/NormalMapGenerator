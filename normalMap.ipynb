{
 "cells": [
  {
   "cell_type": "code",
   "execution_count": 1,
   "metadata": {},
   "outputs": [],
   "source": [
    "import numpy as np\n",
    "import imageio\n",
    "from scipy import ndimage"
   ]
  },
  {
   "cell_type": "code",
   "execution_count": 2,
   "metadata": {},
   "outputs": [],
   "source": [
    "def smooth_gaussian(im, sigma):\n",
    "\n",
    "    if sigma == 0:\n",
    "        return im\n",
    "\n",
    "    im_smooth = im.astype(float)\n",
    "    kernel_x = np.arange(-3*sigma,3*sigma+1).astype(float)\n",
    "    kernel_x = np.exp((-(kernel_x**2))/(2*(sigma**2)))\n",
    "\n",
    "    im_smooth = scipy.ndimage.convolve(im_smooth, kernel_x[np.newaxis])\n",
    "\n",
    "    im_smooth = scipy.ndimage.convolve(im_smooth, kernel_x[np.newaxis].T)\n",
    "\n",
    "    return im_smooth"
   ]
  },
  {
   "cell_type": "code",
   "execution_count": 3,
   "metadata": {},
   "outputs": [],
   "source": [
    "def gradient(im_smooth):\n",
    "\n",
    "    gradient_x = im_smooth.astype(float)\n",
    "    gradient_y = im_smooth.astype(float)\n",
    "\n",
    "    kernel = np.arange(-1,2).astype(float)\n",
    "    kernel = - kernel / 2\n",
    "\n",
    "    gradient_x = scipy.ndimage.convolve(gradient_x, kernel[np.newaxis])\n",
    "    gradient_y = scipy.ndimage.convolve(gradient_y, kernel[np.newaxis].T)\n",
    "\n",
    "    return gradient_x,gradient_y"
   ]
  },
  {
   "cell_type": "code",
   "execution_count": 7,
   "metadata": {},
   "outputs": [],
   "source": [
    "def sobel(im_smooth):\n",
    "    gradient_x = im_smooth.astype(float)\n",
    "    gradient_y = im_smooth.astype(float)\n",
    "\n",
    "    kernel = np.array([[-1,0,1],[-2,0,2],[-1,0,1]])\n",
    "\n",
    "    gradient_x = ndimage.convolve(gradient_x, kernel)\n",
    "    gradient_y = ndimage.convolve(gradient_y, kernel.T)\n",
    "\n",
    "    return gradient_x,gradient_y"
   ]
  },
  {
   "cell_type": "code",
   "execution_count": 8,
   "metadata": {},
   "outputs": [],
   "source": [
    "def compute_normal_map(gradient_x, gradient_y, intensity=1):\n",
    "\n",
    "    width = gradient_x.shape[1]\n",
    "    height = gradient_x.shape[0]\n",
    "    max_x = np.max(gradient_x)\n",
    "    max_y = np.max(gradient_y)\n",
    "\n",
    "    max_value = max_x\n",
    "\n",
    "    if max_y > max_x:\n",
    "        max_value = max_y\n",
    "\n",
    "    normal_map = np.zeros((height, width, 3), dtype=np.float32)\n",
    "\n",
    "    intensity = 1 / intensity\n",
    "\n",
    "    strength = max_value / (max_value * intensity)\n",
    "\n",
    "    normal_map[..., 0] = gradient_x / max_value\n",
    "    normal_map[..., 1] = gradient_y / max_value\n",
    "    normal_map[..., 2] = 1 / strength\n",
    "\n",
    "    norm = np.sqrt(np.power(normal_map[..., 0], 2) + np.power(normal_map[..., 1], 2) + np.power(normal_map[..., 2], 2))\n",
    "\n",
    "    normal_map[..., 0] /= norm\n",
    "    normal_map[..., 1] /= norm\n",
    "    normal_map[..., 2] /= norm\n",
    "\n",
    "    normal_map *= 0.5\n",
    "    normal_map += 0.5\n",
    "\n",
    "    return normal_map"
   ]
  },
  {
   "cell_type": "code",
   "execution_count": 9,
   "metadata": {},
   "outputs": [
    {
     "name": "stderr",
     "output_type": "stream",
     "text": [
      "Lossy conversion from float32 to uint8. Range [0, 1]. Convert image to uint8 prior to saving to suppress this warning.\n"
     ]
    }
   ],
   "source": [
    "sigma = 0 #smooth gussion blur applied to the image\n",
    "intensity = 1 #intensity of the normal map\n",
    "input_file = \"Door3.png\" \n",
    "output_file = \"Door3_nm.png\"\n",
    "\n",
    "im = imageio.imread(input_file)\n",
    "\n",
    "if im.ndim == 3:\n",
    "    im_grey = np.zeros((im.shape[0],im.shape[1])).astype(float)\n",
    "    im_grey = (im[...,0] * 0.3 + im[...,1] * 0.6 + im[...,2] * 0.1)\n",
    "    im = im_grey\n",
    "\n",
    "im_smooth = smooth_gaussian(im, sigma)\n",
    "\n",
    "sobel_x, sobel_y = sobel(im_smooth)\n",
    "\n",
    "normal_map = compute_normal_map(sobel_x, sobel_y, intensity)\n",
    "\n",
    "imageio.imsave(output_file, normal_map)"
   ]
  },
  {
   "cell_type": "code",
   "execution_count": null,
   "metadata": {},
   "outputs": [],
   "source": []
  }
 ],
 "metadata": {
  "kernelspec": {
   "display_name": "Python 3",
   "language": "python",
   "name": "python3"
  },
  "language_info": {
   "codemirror_mode": {
    "name": "ipython",
    "version": 3
   },
   "file_extension": ".py",
   "mimetype": "text/x-python",
   "name": "python",
   "nbconvert_exporter": "python",
   "pygments_lexer": "ipython3",
   "version": "3.8.5"
  }
 },
 "nbformat": 4,
 "nbformat_minor": 4
}
