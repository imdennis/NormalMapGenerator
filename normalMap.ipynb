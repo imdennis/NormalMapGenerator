{
 "cells": [
  {
   "cell_type": "code",
   "execution_count": 1,
   "metadata": {},
   "outputs": [],
   "source": [
    "import numpy as np\n",
    "import imageio\n",
    "from scipy import ndimage"
   ]
  },
  {
   "cell_type": "code",
   "execution_count": 2,
   "metadata": {},
   "outputs": [],
   "source": [
    "def smooth_gaussian(im, sigma):\n",
    "\n",
    "    if sigma == 0:\n",
    "        return im\n",
    "\n",
    "    im_smooth = im.astype(float)\n",
    "    kernel_x = np.arange(-3*sigma,3*sigma+1).astype(float)\n",
    "    kernel_x = np.exp((-(kernel_x**2))/(2*(sigma**2)))\n",
    "\n",
    "    im_smooth = scipy.ndimage.convolve(im_smooth, kernel_x[np.newaxis])\n",
    "\n",
    "    im_smooth = scipy.ndimage.convolve(im_smooth, kernel_x[np.newaxis].T)\n",
    "\n",
    "    return im_smooth"
   ]
  },
  {
   "cell_type": "code",
   "execution_count": 3,
   "metadata": {},
   "outputs": [],
   "source": [
    "def gradient(im_smooth):\n",
    "\n",
    "    gradient_x = im_smooth.astype(float)\n",
    "    gradient_y = im_smooth.astype(float)\n",
    "\n",
    "    kernel = np.arange(-1,2).astype(float)\n",
    "    kernel = - kernel / 2\n",
    "\n",
    "    gradient_x = scipy.ndimage.convolve(gradient_x, kernel[np.newaxis])\n",
    "    gradient_y = scipy.ndimage.convolve(gradient_y, kernel[np.newaxis].T)\n",
    "\n",
    "    return gradient_x,gradient_y"
   ]
  },
  {
   "cell_type": "code",
   "execution_count": 4,
   "metadata": {},
   "outputs": [],
   "source": [
    "def sobel(im_smooth):\n",
    "    gradient_x = im_smooth.astype(float)\n",
    "    gradient_y = im_smooth.astype(float)\n",
    "\n",
    "    kernel = np.array([[-1,0,1],[-2,0,2],[-1,0,1]])\n",
    "\n",
    "    gradient_x = ndimage.convolve(gradient_x, kernel)\n",
    "    gradient_y = ndimage.convolve(gradient_y, kernel.T)\n",
    "\n",
    "    return gradient_x,gradient_y"
   ]
  },
  {
   "cell_type": "code",
   "execution_count": 5,
   "metadata": {},
   "outputs": [],
   "source": [
    "def compute_normal_map(gradient_x, gradient_y, intensity=1):\n",
    "\n",
    "    width = gradient_x.shape[1]\n",
    "    height = gradient_x.shape[0]\n",
    "    max_x = np.max(gradient_x)\n",
    "    max_y = np.max(gradient_y)\n",
    "\n",
    "    max_value = max_x\n",
    "\n",
    "    if max_y > max_x:\n",
    "        max_value = max_y\n",
    "\n",
    "    normal_map = np.zeros((height, width, 3), dtype=np.float32)\n",
    "\n",
    "    intensity = 1 / intensity\n",
    "\n",
    "    strength = max_value / (max_value * intensity)\n",
    "\n",
    "    normal_map[..., 0] = gradient_x / max_value\n",
    "    normal_map[..., 1] = gradient_y / max_value\n",
    "    normal_map[..., 2] = 1 / strength\n",
    "\n",
    "    norm = np.sqrt(np.power(normal_map[..., 0], 2) + np.power(normal_map[..., 1], 2) + np.power(normal_map[..., 2], 2))\n",
    "\n",
    "    normal_map[..., 0] /= norm\n",
    "    normal_map[..., 1] /= norm\n",
    "    normal_map[..., 2] /= norm\n",
    "\n",
    "    normal_map *= 0.5\n",
    "    normal_map += 0.5\n",
    "\n",
    "    return normal_map"
   ]
  },
  {
   "cell_type": "code",
   "execution_count": 7,
   "metadata": {},
   "outputs": [
    {
     "name": "stderr",
     "output_type": "stream",
     "text": [
      "Lossy conversion from float32 to uint8. Range [0, 1]. Convert image to uint8 prior to saving to suppress this warning.\n"
     ]
    }
   ],
   "source": [
    "sigma = 0 #smooth gussion blur applied to the image\n",
    "intensity = 1.5 #intensity of the normal map\n",
    "input_file = \"Door3-large.png\" \n",
    "output_file = \"Door3_nm.png\"\n",
    "\n",
    "im = imageio.imread(input_file)\n",
    "\n",
    "if im.ndim == 3:\n",
    "    im_grey = np.zeros((im.shape[0],im.shape[1])).astype(float)\n",
    "    im_grey = (im[...,0] * 0.3 + im[...,1] * 0.6 + im[...,2] * 0.1)\n",
    "    im = im_grey\n",
    "\n",
    "im_smooth = smooth_gaussian(im, sigma)\n",
    "\n",
    "sobel_x, sobel_y = sobel(im_smooth)\n",
    "\n",
    "normal_map = compute_normal_map(sobel_x, sobel_y, intensity)\n",
    "\n",
    "imageio.imsave(output_file, normal_map)"
   ]
  },
  {
   "cell_type": "code",
   "execution_count": 90,
   "metadata": {},
   "outputs": [],
   "source": [
    "def edge(im, y, x, height, width):\n",
    "    #    a b c y=0\n",
    "    #    d e f y=1\n",
    "    #    g h i y=2\n",
    "    #x = 0 1 2\n",
    "    norm_front = [0, 0, -1]\n",
    "    norm_up = [0, 1, 0]\n",
    "    norm_right_up = [1, 1, 0]\n",
    "    norm_right = [1, 0, 0]\n",
    "    norm_right_down = [1, -1, 0]\n",
    "    norm_down = [0, -1, 0]\n",
    "    norm_left_down = [-1, -1, 0]\n",
    "    norm_left = [-1, 0, 0]\n",
    "    norm_left_up = [-1, 1, 0]\n",
    "    \n",
    "    #image edge\n",
    "    if x == 0:\n",
    "        return norm_left\n",
    "    if y == 0:\n",
    "        return norm_up\n",
    "    \n",
    "    if x == width - 1:\n",
    "        return norm_right\n",
    "    if y == height - 1: \n",
    "        return norm_down\n",
    "    \n",
    "    \n",
    "    try:\n",
    "        a = im[y-1][x-1][3]/255 #alpha\n",
    "        b = im[y-1][x][3]/255\n",
    "        c = im[y-1][x+1][3]/255\n",
    "        d = im[y][x-1][3]/255\n",
    "        e = im[y][x][3]/255\n",
    "        f = im[y][x+1][3]/255\n",
    "        g = im[y+1][x-1][3]/255\n",
    "        h = im[y+1][x][3]/255\n",
    "        i = im[y+1][x+1][3]/255\n",
    "        \n",
    "        \n",
    "        up = a + b + c \n",
    "        down = g + h + i\n",
    "        left = a + d + g\n",
    "        right = c + f + i\n",
    "\n",
    "        \n",
    "        #blank\n",
    "        if up == down == left == right == 0:\n",
    "            return norm_front\n",
    "        \n",
    "        #up_edge\n",
    "        if up == 0:\n",
    "            if left == 0 or right == 0:\n",
    "                if left ==0:\n",
    "                    return norm_left_up\n",
    "                else:\n",
    "                    return norm_right_up\n",
    "            else:  \n",
    "                return norm_up\n",
    "            \n",
    "        #down_edge\n",
    "        if down == 0:\n",
    "            if left == 0 or right == 0:\n",
    "                if left == 0:\n",
    "                    return norm_left_down\n",
    "                else:\n",
    "                    return norm_right_down\n",
    "            else:\n",
    "                return norm_down\n",
    "        \n",
    "        \n",
    "        #left_edge\n",
    "        if left == 0:\n",
    "            return norm_left\n",
    "        #right_edge\n",
    "        if right == 0:\n",
    "            return norm_right\n",
    "        \n",
    "        \n",
    "        return norm_front     \n",
    "        \n",
    "        \n",
    "    except Exception as e:\n",
    "        print(str(e), y, x)\n",
    "        return norm_front\n",
    "        "
   ]
  },
  {
   "cell_type": "code",
   "execution_count": 91,
   "metadata": {},
   "outputs": [],
   "source": [
    "def int2Color(v):\n",
    "    r = v[0]\n",
    "    g = v[1]\n",
    "    b = v[2]\n",
    "    return r*127+128, g*127+128, 128-b*127"
   ]
  },
  {
   "cell_type": "code",
   "execution_count": 93,
   "metadata": {},
   "outputs": [
    {
     "name": "stdout",
     "output_type": "stream",
     "text": [
      "(530, 328, 4)\n",
      "done\n"
     ]
    }
   ],
   "source": [
    "input_file = \"Door3-large.png\" \n",
    "output_file = \"Door3_edge2.png\"\n",
    "\n",
    "im = imageio.imread(input_file)\n",
    "(height, width, channel) = im.shape\n",
    "print(im.shape)\n",
    "normal_map = np.zeros((height, width, 3), dtype=np.uint8)\n",
    "for x in range(width):\n",
    "    for y in range(height):    \n",
    "        normal_map[y, x] = int2Color(edge(im, y, x, height, width))\n",
    "\n",
    "imageio.imsave(output_file, normal_map)\n",
    "print('done')"
   ]
  },
  {
   "cell_type": "code",
   "execution_count": null,
   "metadata": {},
   "outputs": [],
   "source": []
  }
 ],
 "metadata": {
  "kernelspec": {
   "display_name": "Python 3",
   "language": "python",
   "name": "python3"
  },
  "language_info": {
   "codemirror_mode": {
    "name": "ipython",
    "version": 3
   },
   "file_extension": ".py",
   "mimetype": "text/x-python",
   "name": "python",
   "nbconvert_exporter": "python",
   "pygments_lexer": "ipython3",
   "version": "3.8.5"
  }
 },
 "nbformat": 4,
 "nbformat_minor": 4
}
